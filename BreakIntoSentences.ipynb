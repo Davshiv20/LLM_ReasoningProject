{
  "nbformat": 4,
  "nbformat_minor": 0,
  "metadata": {
    "colab": {
      "provenance": [],
      "collapsed_sections": [
        "YJ0NO7bsoVKc",
        "q_UFptYLoy-R",
        "YrKYsfBCpEIk",
        "BioFoCYFpO5B"
      ],
      "authorship_tag": "ABX9TyMaqxbui2KE673cNoKnHZAP",
      "include_colab_link": true
    },
    "kernelspec": {
      "name": "python3",
      "display_name": "Python 3"
    },
    "language_info": {
      "name": "python"
    }
  },
  "cells": [
    {
      "cell_type": "markdown",
      "metadata": {
        "id": "view-in-github",
        "colab_type": "text"
      },
      "source": [
        "<a href=\"https://colab.research.google.com/github/Davshiv20/LLM_ReasoningProject/blob/main/BreakIntoSentences.ipynb\" target=\"_parent\"><img src=\"https://colab.research.google.com/assets/colab-badge.svg\" alt=\"Open In Colab\"/></a>"
      ]
    },
    {
      "cell_type": "markdown",
      "source": [
        "# Accumulating a sentence into pairs"
      ],
      "metadata": {
        "id": "YJ0NO7bsoVKc"
      }
    },
    {
      "cell_type": "code",
      "execution_count": null,
      "metadata": {
        "colab": {
          "base_uri": "https://localhost:8080/"
        },
        "id": "KtVFEDlgGFdN",
        "outputId": "07a384fc-08e5-4aab-b44a-c4ff6c5fdcd2"
      },
      "outputs": [
        {
          "output_type": "stream",
          "name": "stdout",
          "text": [
            "[\n",
            "    {\n",
            "        \"Till_Now\": \"\\\\frac{x + i y}{27} = -2 - \\\\frac{1}{3} i^3 = \\\\frac{-1}{3}(6 + i)^3\",\n",
            "        \"Current_Statement\": \"\\\\Rightarrow \\\\frac{x + i y}{27} = -\\\\frac{1}{3}(6 + i)^3\"\n",
            "    },\n",
            "    {\n",
            "        \"Till_Now\": \"\\\\frac{x + i y}{27} = -2 - \\\\frac{1}{3} i^3 = \\\\frac{-1}{3}(6 + i)^3 \\\\Rightarrow \\\\frac{x + i y}{27} = -\\\\frac{1}{3}(6 + i)^3\",\n",
            "        \"Current_Statement\": \"(6 + i)^3 = 6^3 + i^3 + 3(6^2)i + 3(6)(i^2)\"\n",
            "    },\n",
            "    {\n",
            "        \"Till_Now\": \"\\\\frac{x + i y}{27} = -2 - \\\\frac{1}{3} i^3 = \\\\frac{-1}{3}(6 + i)^3 \\\\Rightarrow \\\\frac{x + i y}{27} = -\\\\frac{1}{3}(6 + i)^3 (6 + i)^3 = 6^3 + i^3 + 3(6^2)i + 3(6)(i^2)\",\n",
            "        \"Current_Statement\": \"6^3 = 216, \\\\quad i^2 = -1, \\\\quad i^3 = -i\"\n",
            "    },\n",
            "    {\n",
            "        \"Till_Now\": \"\\\\frac{x + i y}{27} = -2 - \\\\frac{1}{3} i^3 = \\\\frac{-1}{3}(6 + i)^3 \\\\Rightarrow \\\\frac{x + i y}{27} = -\\\\frac{1}{3}(6 + i)^3 (6 + i)^3 = 6^3 + i^3 + 3(6^2)i + 3(6)(i^2) 6^3 = 216, \\\\quad i^2 = -1, \\\\quad i^3 = -i\",\n",
            "        \"Current_Statement\": \"(6 + i)^3 = 216 - i + 108i - 18\"\n",
            "    },\n",
            "    {\n",
            "        \"Till_Now\": \"\\\\frac{x + i y}{27} = -2 - \\\\frac{1}{3} i^3 = \\\\frac{-1}{3}(6 + i)^3 \\\\Rightarrow \\\\frac{x + i y}{27} = -\\\\frac{1}{3}(6 + i)^3 (6 + i)^3 = 6^3 + i^3 + 3(6^2)i + 3(6)(i^2) 6^3 = 216, \\\\quad i^2 = -1, \\\\quad i^3 = -i (6 + i)^3 = 216 - i + 108i - 18\",\n",
            "        \"Current_Statement\": \"(6 + i)^3 = 198 + 107i\"\n",
            "    },\n",
            "    {\n",
            "        \"Till_Now\": \"\\\\frac{x + i y}{27} = -2 - \\\\frac{1}{3} i^3 = \\\\frac{-1}{3}(6 + i)^3 \\\\Rightarrow \\\\frac{x + i y}{27} = -\\\\frac{1}{3}(6 + i)^3 (6 + i)^3 = 6^3 + i^3 + 3(6^2)i + 3(6)(i^2) 6^3 = 216, \\\\quad i^2 = -1, \\\\quad i^3 = -i (6 + i)^3 = 216 - i + 108i - 18 (6 + i)^3 = 198 + 107i\",\n",
            "        \"Current_Statement\": \"\\\\frac{x + i y}{27} = -\\\\frac{1}{27}(198 + 107i)\"\n",
            "    },\n",
            "    {\n",
            "        \"Till_Now\": \"\\\\frac{x + i y}{27} = -2 - \\\\frac{1}{3} i^3 = \\\\frac{-1}{3}(6 + i)^3 \\\\Rightarrow \\\\frac{x + i y}{27} = -\\\\frac{1}{3}(6 + i)^3 (6 + i)^3 = 6^3 + i^3 + 3(6^2)i + 3(6)(i^2) 6^3 = 216, \\\\quad i^2 = -1, \\\\quad i^3 = -i (6 + i)^3 = 216 - i + 108i - 18 (6 + i)^3 = 198 + 107i \\\\frac{x + i y}{27} = -\\\\frac{1}{27}(198 + 107i)\",\n",
            "        \"Current_Statement\": \"\\\\frac{x}{27} = -\\\\frac{198}{27} \\\\quad \\\\Rightarrow \\\\quad x = -198\"\n",
            "    },\n",
            "    {\n",
            "        \"Till_Now\": \"\\\\frac{x + i y}{27} = -2 - \\\\frac{1}{3} i^3 = \\\\frac{-1}{3}(6 + i)^3 \\\\Rightarrow \\\\frac{x + i y}{27} = -\\\\frac{1}{3}(6 + i)^3 (6 + i)^3 = 6^3 + i^3 + 3(6^2)i + 3(6)(i^2) 6^3 = 216, \\\\quad i^2 = -1, \\\\quad i^3 = -i (6 + i)^3 = 216 - i + 108i - 18 (6 + i)^3 = 198 + 107i \\\\frac{x + i y}{27} = -\\\\frac{1}{27}(198 + 107i) \\\\frac{x}{27} = -\\\\frac{198}{27} \\\\quad \\\\Rightarrow \\\\quad x = -198\",\n",
            "        \"Current_Statement\": \"\\\\frac{y}{27} = -\\\\frac{107}{27} \\\\quad \\\\Rightarrow \\\\quad y = -107\"\n",
            "    },\n",
            "    {\n",
            "        \"Till_Now\": \"\\\\frac{x + i y}{27} = -2 - \\\\frac{1}{3} i^3 = \\\\frac{-1}{3}(6 + i)^3 \\\\Rightarrow \\\\frac{x + i y}{27} = -\\\\frac{1}{3}(6 + i)^3 (6 + i)^3 = 6^3 + i^3 + 3(6^2)i + 3(6)(i^2) 6^3 = 216, \\\\quad i^2 = -1, \\\\quad i^3 = -i (6 + i)^3 = 216 - i + 108i - 18 (6 + i)^3 = 198 + 107i \\\\frac{x + i y}{27} = -\\\\frac{1}{27}(198 + 107i) \\\\frac{x}{27} = -\\\\frac{198}{27} \\\\quad \\\\Rightarrow \\\\quad x = -198 \\\\frac{y}{27} = -\\\\frac{107}{27} \\\\quad \\\\Rightarrow \\\\quad y = -107\",\n",
            "        \"Current_Statement\": \"y - x = -107 - (-198) = 91\"\n",
            "    }\n",
            "]\n"
          ]
        }
      ],
      "source": [
        "import json\n",
        "\n",
        "def accumulate_and_store_sentences(dataset):\n",
        "    result = []\n",
        "    for data in dataset:\n",
        "        sentences = data[\"sentences\"]\n",
        "        accumulated_statement = \"\"\n",
        "\n",
        "        for i, sentence in enumerate(sentences):\n",
        "            if i == 0:\n",
        "                accumulated_statement += sentence + \" \"\n",
        "                continue\n",
        "            statement_data = {\n",
        "                \"Till_Now\": accumulated_statement.strip(),\n",
        "                \"Current_Statement\": sentence\n",
        "            }\n",
        "            result.append(statement_data)\n",
        "            accumulated_statement += sentence + \" \"\n",
        "    return result\n",
        "\n",
        "dataset = [\n",
        "  {\n",
        "    \"id\": 367,\n",
        "    \"question\": \"If $i=\\\\sqrt{-1}$, then $4+5\\\\left(-\\\\frac{1}{2}+\\\\frac{i \\\\sqrt{3}}{2}\\\\right)^{334}+3\\\\left(-\\\\frac{1}{2}+\\\\frac{i \\\\sqrt{3}}{2}\\\\right)^{365}$ is equal to\\\\\\\\\",\n",
        "    \"reference\": \"\\n\\n(1999, 2M) \",\n",
        "    \"options\": [\n",
        "      \"a) $1-i \\\\sqrt{3}$\\\\\\\\\",\n",
        "      \"b) $-1+i \\\\sqrt{3}$\\\\\\\\\",\n",
        "      \"c) $i \\\\sqrt{3}$\\\\\\\\\",\n",
        "      \"d) $-i \\\\sqrt{3}$\"\n",
        "    ],\n",
        "    \"question_type\": \"Objective Question I\",\n",
        "    \"answer\": \"(c)\",\n",
        "    \"solution\": \"We know that,\\n\\n$$\\n\\\\begin{aligned}\\n& \\\\omega=-\\\\frac{1}{2}+\\\\frac{\\\\sqrt{3}}{2} i \\\\\\\\\\n& \\\\therefore 4+5-\\\\frac{1}{2}+\\\\frac{i \\\\sqrt{3}}{2}^{334}+3-\\\\frac{1}{2}+\\\\frac{i \\\\sqrt{3}}{2}^{365} \\\\\\\\\\n& =4+5 \\\\omega^{334}+3 \\\\omega^{36} \\\\\\\\\\n& =4+5 \\\\cdot\\\\left(\\\\omega^{3}\\\\right)^{111} \\\\cdot \\\\omega+3 \\\\cdot\\\\left(\\\\omega^{3}\\\\right)^{121} \\\\cdot \\\\omega^{2} \\\\\\\\\\n& =4+5 \\\\omega+3 \\\\omega^{2} \\\\quad\\\\left[\\\\because \\\\omega^{3}=1\\\\right] \\\\\\\\\\n& =1+3+2 \\\\omega+3 \\\\omega+3 \\\\omega^{2} \\\\\\\\\\n& =1+2 \\\\omega+3\\\\left(1+\\\\omega+\\\\omega^{2}\\\\right)=1+2 \\\\omega+3 \\\\times 0 \\\\\\\\\\n& =1+(-1+\\\\sqrt{3} i)=\\\\sqrt{3} i \\\\\\\\\\n& {\\\\left[\\\\because 1+\\\\omega+\\\\omega^{2}=0\\\\right]}\\n\\\\end{aligned}\\n$$\",\n",
        "    \"chapter\": \"Complex Numbers\",\n",
        "    \"LessonId\": 997,\n",
        "    \"CourseSubjectName\": \"Maths\",\n",
        "    \"sentences\": [\n",
        "      \"\\\\frac{x + i y}{27} = -2 - \\\\frac{1}{3} i^3 = \\\\frac{-1}{3}(6 + i)^3\",\n",
        "      \"\\\\Rightarrow \\\\frac{x + i y}{27} = -\\\\frac{1}{3}(6 + i)^3\",\n",
        "      \"(6 + i)^3 = 6^3 + i^3 + 3(6^2)i + 3(6)(i^2)\",\n",
        "      \"6^3 = 216, \\\\quad i^2 = -1, \\\\quad i^3 = -i\",\n",
        "      \"(6 + i)^3 = 216 - i + 108i - 18\",\n",
        "      \"(6 + i)^3 = 198 + 107i\",\n",
        "      \"\\\\frac{x + i y}{27} = -\\\\frac{1}{27}(198 + 107i)\",\n",
        "      \"\\\\frac{x}{27} = -\\\\frac{198}{27} \\\\quad \\\\Rightarrow \\\\quad x = -198\",\n",
        "      \"\\\\frac{y}{27} = -\\\\frac{107}{27} \\\\quad \\\\Rightarrow \\\\quad y = -107\",\n",
        "      \"y - x = -107 - (-198) = 91\"\n",
        "    ]\n",
        "  }\n",
        "]\n",
        "\n",
        "result_json = accumulate_and_store_sentences(dataset)\n",
        "output_json = json.dumps(result_json, indent=4)\n",
        "print(output_json)\n"
      ]
    },
    {
      "cell_type": "markdown",
      "source": [
        "#Accumulating all sentences into pairs from file"
      ],
      "metadata": {
        "id": "vWx_E-SNolC8"
      }
    },
    {
      "cell_type": "code",
      "source": [
        "import json\n",
        "def accumulate_and_store_sentences(dataset):\n",
        "    result = []\n",
        "    for data in dataset:\n",
        "        sentences = data[\"sentences\"]\n",
        "        accumulated_statement = \"\"\n",
        "\n",
        "        for i, sentence in enumerate(sentences):\n",
        "            if i == 0:\n",
        "                accumulated_statement += sentence + \" \"\n",
        "                continue\n",
        "            statement_data = {\n",
        "                \"Till_Now\": accumulated_statement.strip(),\n",
        "                \"Current_Statement\": sentence\n",
        "            }\n",
        "            result.append(statement_data)\n",
        "            accumulated_statement += sentence + \" \"\n",
        "    return result\n",
        "\n",
        "def getDataSet(filename):\n",
        "    with open(filename, 'r') as file:\n",
        "      dataset = json.load(file)\n",
        "    return dataset\n",
        "\n",
        "input_filename = 'TestingDataset.json'\n",
        "output_filename = 'TestingDatasetSentences.json'\n",
        "\n",
        "dataset = getDataSet(input_filename)\n",
        "\n",
        "SentencesDataSet = accumulate_and_store_sentences(dataset)\n",
        "\n",
        "with open(output_filename, 'w') as json_file:\n",
        "    json.dump(SentencesDataSet, json_file, indent=4)\n",
        "\n",
        "print(f\"Processed dataset has been exported to '{output_filename}'.\")\n",
        "print(\"Sample of processed dataset:\")\n",
        "for item in SentencesDataSet[:10]:\n",
        "    print(item)"
      ],
      "metadata": {
        "colab": {
          "base_uri": "https://localhost:8080/"
        },
        "id": "Mff_G32PGKkb",
        "outputId": "67ac7197-68af-4c4a-985b-8bfcaacb7306"
      },
      "execution_count": null,
      "outputs": [
        {
          "output_type": "stream",
          "name": "stdout",
          "text": [
            "Processed dataset has been exported to 'TestingDatasetSentences.json'.\n",
            "Sample of processed dataset:\n",
            "{'Till_Now': 'We know that,\\n\\n$$\\n\\\\begin{aligned}\\n& \\\\omega=-\\\\frac{1}{2}+\\\\frac{\\\\sqrt{3}}{2} i \\\\\\\\', 'Current_Statement': '\\\\therefore 4+5-\\\\frac{1}{2}+\\\\frac{i \\\\sqrt{3}}{2}^{334}+3-\\\\frac{1}{2}+\\\\frac{i \\\\sqrt{3}}{2}^{365} \\\\\\\\n =4+5 \\\\omega^{334}+3 \\\\omega^{36} \\\\\\\\\\n'}\n",
            "{'Till_Now': 'We know that,\\n\\n$$\\n\\\\begin{aligned}\\n& \\\\omega=-\\\\frac{1}{2}+\\\\frac{\\\\sqrt{3}}{2} i \\\\\\\\\\n \\\\therefore 4+5-\\\\frac{1}{2}+\\\\frac{i \\\\sqrt{3}}{2}^{334}+3-\\\\frac{1}{2}+\\\\frac{i \\\\sqrt{3}}{2}^{365} \\\\\\\\n =4+5 \\\\omega^{334}+3 \\\\omega^{36} \\\\\\\\', 'Current_Statement': '=4+5 \\\\cdot\\\\left(\\\\omega^{3}\\\\right)^{111} \\\\cdot \\\\omega+3 \\\\cdot\\\\left(\\\\omega^{3}\\\\right)^{121} \\\\cdot \\\\omega^{2} \\\\\\\\\\n'}\n",
            "{'Till_Now': 'We know that,\\n\\n$$\\n\\\\begin{aligned}\\n& \\\\omega=-\\\\frac{1}{2}+\\\\frac{\\\\sqrt{3}}{2} i \\\\\\\\\\n \\\\therefore 4+5-\\\\frac{1}{2}+\\\\frac{i \\\\sqrt{3}}{2}^{334}+3-\\\\frac{1}{2}+\\\\frac{i \\\\sqrt{3}}{2}^{365} \\\\\\\\n =4+5 \\\\omega^{334}+3 \\\\omega^{36} \\\\\\\\\\n =4+5 \\\\cdot\\\\left(\\\\omega^{3}\\\\right)^{111} \\\\cdot \\\\omega+3 \\\\cdot\\\\left(\\\\omega^{3}\\\\right)^{121} \\\\cdot \\\\omega^{2} \\\\\\\\', 'Current_Statement': '=4+5 \\\\omega+3 \\\\omega^{2} \\\\quad\\\\left[\\\\because \\\\omega^{3}=1\\\\right]\\\\\\\\\\n'}\n",
            "{'Till_Now': 'We know that,\\n\\n$$\\n\\\\begin{aligned}\\n& \\\\omega=-\\\\frac{1}{2}+\\\\frac{\\\\sqrt{3}}{2} i \\\\\\\\\\n \\\\therefore 4+5-\\\\frac{1}{2}+\\\\frac{i \\\\sqrt{3}}{2}^{334}+3-\\\\frac{1}{2}+\\\\frac{i \\\\sqrt{3}}{2}^{365} \\\\\\\\n =4+5 \\\\omega^{334}+3 \\\\omega^{36} \\\\\\\\\\n =4+5 \\\\cdot\\\\left(\\\\omega^{3}\\\\right)^{111} \\\\cdot \\\\omega+3 \\\\cdot\\\\left(\\\\omega^{3}\\\\right)^{121} \\\\cdot \\\\omega^{2} \\\\\\\\\\n =4+5 \\\\omega+3 \\\\omega^{2} \\\\quad\\\\left[\\\\because \\\\omega^{3}=1\\\\right]\\\\\\\\', 'Current_Statement': '=1+3+2 \\\\omega+3 \\\\omega+3 \\\\omega^{2} \\\\\\\\\\n'}\n",
            "{'Till_Now': 'We know that,\\n\\n$$\\n\\\\begin{aligned}\\n& \\\\omega=-\\\\frac{1}{2}+\\\\frac{\\\\sqrt{3}}{2} i \\\\\\\\\\n \\\\therefore 4+5-\\\\frac{1}{2}+\\\\frac{i \\\\sqrt{3}}{2}^{334}+3-\\\\frac{1}{2}+\\\\frac{i \\\\sqrt{3}}{2}^{365} \\\\\\\\n =4+5 \\\\omega^{334}+3 \\\\omega^{36} \\\\\\\\\\n =4+5 \\\\cdot\\\\left(\\\\omega^{3}\\\\right)^{111} \\\\cdot \\\\omega+3 \\\\cdot\\\\left(\\\\omega^{3}\\\\right)^{121} \\\\cdot \\\\omega^{2} \\\\\\\\\\n =4+5 \\\\omega+3 \\\\omega^{2} \\\\quad\\\\left[\\\\because \\\\omega^{3}=1\\\\right]\\\\\\\\\\n =1+3+2 \\\\omega+3 \\\\omega+3 \\\\omega^{2} \\\\\\\\', 'Current_Statement': '=1+2 \\\\omega+3\\\\left(1+\\\\omega+\\\\omega^{2}\\\\right)=1+2 \\\\omega+3 \\\\times 0 \\\\\\\\\\n'}\n",
            "{'Till_Now': 'We know that,\\n\\n$$\\n\\\\begin{aligned}\\n& \\\\omega=-\\\\frac{1}{2}+\\\\frac{\\\\sqrt{3}}{2} i \\\\\\\\\\n \\\\therefore 4+5-\\\\frac{1}{2}+\\\\frac{i \\\\sqrt{3}}{2}^{334}+3-\\\\frac{1}{2}+\\\\frac{i \\\\sqrt{3}}{2}^{365} \\\\\\\\n =4+5 \\\\omega^{334}+3 \\\\omega^{36} \\\\\\\\\\n =4+5 \\\\cdot\\\\left(\\\\omega^{3}\\\\right)^{111} \\\\cdot \\\\omega+3 \\\\cdot\\\\left(\\\\omega^{3}\\\\right)^{121} \\\\cdot \\\\omega^{2} \\\\\\\\\\n =4+5 \\\\omega+3 \\\\omega^{2} \\\\quad\\\\left[\\\\because \\\\omega^{3}=1\\\\right]\\\\\\\\\\n =1+3+2 \\\\omega+3 \\\\omega+3 \\\\omega^{2} \\\\\\\\\\n =1+2 \\\\omega+3\\\\left(1+\\\\omega+\\\\omega^{2}\\\\right)=1+2 \\\\omega+3 \\\\times 0 \\\\\\\\', 'Current_Statement': '=1+(-1+\\\\sqrt{3} i)=\\\\sqrt{3} i  {\\\\left[\\\\because 1+\\\\omega+\\\\omega^{2}=0\\\\right]}\\n\\\\end{aligned}\\n$$'}\n",
            "{'Till_Now': 'Given, $\\\\left(1+\\\\omega^{2}\\\\right)^{n}=\\\\left(1+\\\\omega^{4}\\\\right)^{n}$', 'Current_Statement': '\\n\\n$$\\n\\\\begin{aligned}\\n& \\\\Rightarrow \\\\quad(-\\\\omega)^{n}=\\\\left(-\\\\omega^{2}\\\\right)^{n} \\\\quad\\\\left[\\\\because \\\\omega^{3}=1 \\\\text { and } 1+\\\\omega+\\\\omega^{2}=0\\\\right] \\\\\\\\\\n&'}\n",
            "{'Till_Now': 'Given, $\\\\left(1+\\\\omega^{2}\\\\right)^{n}=\\\\left(1+\\\\omega^{4}\\\\right)^{n}$ \\n\\n$$\\n\\\\begin{aligned}\\n& \\\\Rightarrow \\\\quad(-\\\\omega)^{n}=\\\\left(-\\\\omega^{2}\\\\right)^{n} \\\\quad\\\\left[\\\\because \\\\omega^{3}=1 \\\\text { and } 1+\\\\omega+\\\\omega^{2}=0\\\\right] \\\\\\\\\\n&', 'Current_Statement': ' \\\\Rightarrow \\\\quad \\\\omega^{n}=1 \\\\\\\\\\n& '}\n",
            "{'Till_Now': 'Given, $\\\\left(1+\\\\omega^{2}\\\\right)^{n}=\\\\left(1+\\\\omega^{4}\\\\right)^{n}$ \\n\\n$$\\n\\\\begin{aligned}\\n& \\\\Rightarrow \\\\quad(-\\\\omega)^{n}=\\\\left(-\\\\omega^{2}\\\\right)^{n} \\\\quad\\\\left[\\\\because \\\\omega^{3}=1 \\\\text { and } 1+\\\\omega+\\\\omega^{2}=0\\\\right] \\\\\\\\\\n&  \\\\Rightarrow \\\\quad \\\\omega^{n}=1 \\\\\\\\\\n&', 'Current_Statement': '\\\\Rightarrow \\\\quad n=3 \\\\text { is the least positive value of } n\\n\\\\end{aligned}\\n$$'}\n",
            "{'Till_Now': 'Given, $\\\\left|z_{1}+z_{2}\\\\right|=\\\\left|z_{1}\\\\right|+\\\\left|z_{2}\\\\right|$', 'Current_Statement': 'On squaring both sides, we get\\n\\n$$\\n\\\\begin{aligned}\\n& \\\\left|z_{1}\\\\right|^{2}+\\\\left|z_{2}\\\\right|^{2}+2\\\\left|z_{1}\\\\right|\\\\left|z_{2}\\\\right| \\\\cos \\\\left(\\\\arg z_{1}-\\\\arg z_{2}\\\\right) =\\\\left|z_{1}\\\\right|^{2}+\\\\left|z_{2}\\\\right|^{2}+2\\\\left|z_{1}\\\\right|\\\\left|z_{2}\\\\right| \\\\\\\\\\n& \\\\Rightarrow \\\\quad 2\\\\left|z_{1}\\\\right|\\\\left|z_{2}\\\\right| \\\\cos \\\\left(\\\\arg z_{1}-\\\\arg z_{2}\\\\right)=2\\\\left|z_{1}\\\\right|\\\\left|z_{2}\\\\right| \\\\\\\\\\n& '}\n"
          ]
        }
      ]
    },
    {
      "cell_type": "markdown",
      "source": [
        "#Generating No & Yes Dataset (JSON Format)"
      ],
      "metadata": {
        "id": "q_UFptYLoy-R"
      }
    },
    {
      "cell_type": "code",
      "source": [
        "import json\n",
        "import random\n",
        "import re\n",
        "\n",
        "def change_constants(sentence):\n",
        "    return re.sub(r'(\\d+)', lambda x: str(int(x.group(0)) + random.randint(1, 3)), sentence)\n",
        "\n",
        "def swap_operators(sentence):\n",
        "    operator_map = {'+': '-', '-': '+', '*': '/', '/': '*'}\n",
        "    return re.sub(r'[+\\-*/]', lambda x: operator_map.get(x.group(0), x.group(0)), sentence)\n",
        "\n",
        "def change_variables(sentence):\n",
        "    variable_map = {'x': 'y', 'y': 'x', 't': 's', 's': 't'}\n",
        "    return re.sub(r'[xyts]', lambda x: variable_map.get(x.group(0), x.group(0)), sentence)\n",
        "\n",
        "def incorrect_simplification(sentence):\n",
        "    return re.sub(r'e\\^\\{(\\d* ?x)\\}', lambda x: f\"e^{{{random.choice(['2x', 'x', '3x'])}}}\", sentence)\n",
        "\n",
        "def apply_all_transformations(sentence):\n",
        "    error_functions = [change_constants, swap_operators, change_variables, incorrect_simplification]\n",
        "    transformed_sentences = []\n",
        "    for func in error_functions:\n",
        "        transformed_sentences.append(func(sentence))\n",
        "    return transformed_sentences\n",
        "\n",
        "def create_no_dataset(sentence_pair, n_errors=3):\n",
        "    sentence_1, sentence_2 = sentence_pair\n",
        "    incorrect_sentences = apply_all_transformations(sentence_2)\n",
        "    no_dataset = []\n",
        "    for _ in range(n_errors):\n",
        "        random_incorrect_sentence = random.choice(incorrect_sentences)\n",
        "        if len(sentence_1) >= 3 and len(random_incorrect_sentence) >= 3:\n",
        "            no_dataset.append((sentence_1, random_incorrect_sentence))\n",
        "    return no_dataset\n",
        "\n",
        "def create_datasets_from_till_now(data, n_errors=3):\n",
        "    yes_dataset = []\n",
        "    no_dataset = []\n",
        "\n",
        "    for record in data:\n",
        "        till_now = record[\"Till_Now\"]\n",
        "        current_statement = record[\"Current_Statement\"]\n",
        "\n",
        "        if len(till_now) >= 3 and len(current_statement) >= 3:\n",
        "            yes_dataset.append({\"sentence_pair\": (till_now, current_statement), \"ans\": \"yes\"})\n",
        "\n",
        "        incorrect_pairs = create_no_dataset((till_now, current_statement), n_errors=n_errors)\n",
        "        no_dataset.extend([{\"sentence_pair\": pair, \"ans\": \"no\"} for pair in incorrect_pairs])\n",
        "\n",
        "    return yes_dataset, no_dataset\n",
        "\n",
        "def process_representative_dataset(filename, n_errors=3):\n",
        "    with open(filename, 'r') as file:\n",
        "        dataset = json.load(file)\n",
        "\n",
        "    full_dataset = []\n",
        "    yes_dataset, no_dataset = create_datasets_from_till_now(dataset, n_errors=n_errors)\n",
        "    full_dataset.extend(yes_dataset + no_dataset)\n",
        "\n",
        "    return full_dataset\n",
        "\n",
        "input_filename = 'TestingSentences.json'\n",
        "output_filename = 'TestingSentencesDataSet.json'\n",
        "\n",
        "full_dataset = process_representative_dataset(input_filename)\n",
        "\n",
        "with open(output_filename, 'w') as json_file:\n",
        "    json.dump(full_dataset, json_file, indent=4)\n",
        "\n",
        "print(f\"Processed dataset has been exported to '{output_filename}'.\")\n",
        "print(\"Sample of processed dataset:\")\n",
        "for item in full_dataset[:10]:\n",
        "    print(item)\n",
        "\n",
        "\n",
        "# with open(output_filename, 'w') as json_file:\n",
        "#     json.dump(full_dataset, json_file, separators=(',', ':'), ensure_ascii=False)\n",
        "\n",
        "# print(f\"Processed dataset has been exported to '{output_filename}'.\")\n",
        "# print(\"Sample of processed dataset:\")\n",
        "# for item in full_dataset[:10]:  # Print first 10 items for review\n",
        "#     print(item)"
      ],
      "metadata": {
        "colab": {
          "base_uri": "https://localhost:8080/"
        },
        "id": "4QKqFm4JGKm0",
        "outputId": "41f66d8c-6d46-4749-a217-3b48c6268f1f"
      },
      "execution_count": null,
      "outputs": [
        {
          "output_type": "stream",
          "name": "stdout",
          "text": [
            "Processed dataset has been exported to 'TestingSentencesDataSet.json'.\n",
            "Sample of processed dataset:\n",
            "{'sentence_pair': ('\\\\frac{x + i y}{27} = -2 - \\\\frac{1}{3} i^3 = \\\\frac{-1}{3}(6 + i)^3', '\\\\Rightarrow \\\\frac{x + i y}{27} = -\\\\frac{1}{3}(6 + i)^3'), 'ans': 'yes'}\n",
            "{'sentence_pair': ('\\\\frac{x + i y}{27} = -2 - \\\\frac{1}{3} i^3 = \\\\frac{-1}{3}(6 + i)^3 \\\\Rightarrow \\\\frac{x + i y}{27} = -\\\\frac{1}{3}(6 + i)^3', '(6 + i)^3 = 6^3 + i^3 + 3(6^2)i + 3(6)(i^2)'), 'ans': 'yes'}\n",
            "{'sentence_pair': ('\\\\frac{x + i y}{27} = -2 - \\\\frac{1}{3} i^3 = \\\\frac{-1}{3}(6 + i)^3 \\\\Rightarrow \\\\frac{x + i y}{27} = -\\\\frac{1}{3}(6 + i)^3 (6 + i)^3 = 6^3 + i^3 + 3(6^2)i + 3(6)(i^2)', '6^3 = 216, \\\\quad i^2 = -1, \\\\quad i^3 = -i'), 'ans': 'yes'}\n",
            "{'sentence_pair': ('\\\\frac{x + i y}{27} = -2 - \\\\frac{1}{3} i^3 = \\\\frac{-1}{3}(6 + i)^3 \\\\Rightarrow \\\\frac{x + i y}{27} = -\\\\frac{1}{3}(6 + i)^3 (6 + i)^3 = 6^3 + i^3 + 3(6^2)i + 3(6)(i^2) 6^3 = 216, \\\\quad i^2 = -1, \\\\quad i^3 = -i', '(6 + i)^3 = 216 - i + 108i - 18'), 'ans': 'yes'}\n",
            "{'sentence_pair': ('\\\\frac{x + i y}{27} = -2 - \\\\frac{1}{3} i^3 = \\\\frac{-1}{3}(6 + i)^3 \\\\Rightarrow \\\\frac{x + i y}{27} = -\\\\frac{1}{3}(6 + i)^3 (6 + i)^3 = 6^3 + i^3 + 3(6^2)i + 3(6)(i^2) 6^3 = 216, \\\\quad i^2 = -1, \\\\quad i^3 = -i (6 + i)^3 = 216 - i + 108i - 18', '(6 + i)^3 = 198 + 107i'), 'ans': 'yes'}\n",
            "{'sentence_pair': ('\\\\frac{x + i y}{27} = -2 - \\\\frac{1}{3} i^3 = \\\\frac{-1}{3}(6 + i)^3 \\\\Rightarrow \\\\frac{x + i y}{27} = -\\\\frac{1}{3}(6 + i)^3 (6 + i)^3 = 6^3 + i^3 + 3(6^2)i + 3(6)(i^2) 6^3 = 216, \\\\quad i^2 = -1, \\\\quad i^3 = -i (6 + i)^3 = 216 - i + 108i - 18 (6 + i)^3 = 198 + 107i', '\\\\frac{x + i y}{27} = -\\\\frac{1}{27}(198 + 107i)'), 'ans': 'yes'}\n",
            "{'sentence_pair': ('\\\\frac{x + i y}{27} = -2 - \\\\frac{1}{3} i^3 = \\\\frac{-1}{3}(6 + i)^3 \\\\Rightarrow \\\\frac{x + i y}{27} = -\\\\frac{1}{3}(6 + i)^3 (6 + i)^3 = 6^3 + i^3 + 3(6^2)i + 3(6)(i^2) 6^3 = 216, \\\\quad i^2 = -1, \\\\quad i^3 = -i (6 + i)^3 = 216 - i + 108i - 18 (6 + i)^3 = 198 + 107i \\\\frac{x + i y}{27} = -\\\\frac{1}{27}(198 + 107i)', '\\\\frac{x}{27} = -\\\\frac{198}{27} \\\\quad \\\\Rightarrow \\\\quad x = -198'), 'ans': 'yes'}\n",
            "{'sentence_pair': ('\\\\frac{x + i y}{27} = -2 - \\\\frac{1}{3} i^3 = \\\\frac{-1}{3}(6 + i)^3 \\\\Rightarrow \\\\frac{x + i y}{27} = -\\\\frac{1}{3}(6 + i)^3 (6 + i)^3 = 6^3 + i^3 + 3(6^2)i + 3(6)(i^2) 6^3 = 216, \\\\quad i^2 = -1, \\\\quad i^3 = -i (6 + i)^3 = 216 - i + 108i - 18 (6 + i)^3 = 198 + 107i \\\\frac{x + i y}{27} = -\\\\frac{1}{27}(198 + 107i) \\\\frac{x}{27} = -\\\\frac{198}{27} \\\\quad \\\\Rightarrow \\\\quad x = -198', '\\\\frac{y}{27} = -\\\\frac{107}{27} \\\\quad \\\\Rightarrow \\\\quad y = -107'), 'ans': 'yes'}\n",
            "{'sentence_pair': ('\\\\frac{x + i y}{27} = -2 - \\\\frac{1}{3} i^3 = \\\\frac{-1}{3}(6 + i)^3 \\\\Rightarrow \\\\frac{x + i y}{27} = -\\\\frac{1}{3}(6 + i)^3 (6 + i)^3 = 6^3 + i^3 + 3(6^2)i + 3(6)(i^2) 6^3 = 216, \\\\quad i^2 = -1, \\\\quad i^3 = -i (6 + i)^3 = 216 - i + 108i - 18 (6 + i)^3 = 198 + 107i \\\\frac{x + i y}{27} = -\\\\frac{1}{27}(198 + 107i) \\\\frac{x}{27} = -\\\\frac{198}{27} \\\\quad \\\\Rightarrow \\\\quad x = -198 \\\\frac{y}{27} = -\\\\frac{107}{27} \\\\quad \\\\Rightarrow \\\\quad y = -107', 'y - x = -107 - (-198) = 91'), 'ans': 'yes'}\n",
            "{'sentence_pair': ('\\\\left(1+\\\\omega^{2}\\\\right)^{n}=\\\\left(1+\\\\omega^{4}\\\\right)^{n}', '\\\\Rightarrow \\\\quad (-\\\\omega)^{n}=\\\\left(-\\\\omega^{2}\\\\right)^{n} \\\\quad \\\\left[\\\\because \\\\omega^{3}=1 \\\\text { and } 1+\\\\omega+\\\\omega^{2}=0\\\\right]'), 'ans': 'yes'}\n"
          ]
        }
      ]
    },
    {
      "cell_type": "markdown",
      "source": [
        "#Generating Yes & No Dataset (JSONL Format)"
      ],
      "metadata": {
        "id": "YrKYsfBCpEIk"
      }
    },
    {
      "cell_type": "code",
      "source": [
        "import json\n",
        "import random\n",
        "import re\n",
        "\n",
        "def change_constants(sentence):\n",
        "    return re.sub(r'(\\d+)', lambda x: str(int(x.group(0)) + random.randint(1, 3)), sentence)\n",
        "\n",
        "def swap_operators(sentence):\n",
        "    operator_map = {'+': '-', '-': '+', '*': '/', '/': '*'}\n",
        "    return re.sub(r'[+\\-*/]', lambda x: operator_map.get(x.group(0), x.group(0)), sentence)\n",
        "\n",
        "def change_variables(sentence):\n",
        "    variable_map = {'x': 'y', 'y': 'x', 't': 's', 's': 't'}\n",
        "    return re.sub(r'[xyts]', lambda x: variable_map.get(x.group(0), x.group(0)), sentence)\n",
        "\n",
        "def incorrect_simplification(sentence):\n",
        "    return re.sub(r'e\\^\\{(\\d* ?x)\\}', lambda x: f\"e^{{{random.choice(['2x', 'x', '3x'])}}}\", sentence)\n",
        "\n",
        "def apply_all_transformations(sentence):\n",
        "    error_functions = [change_constants, swap_operators, change_variables, incorrect_simplification]\n",
        "    transformed_sentences = []\n",
        "    for func in error_functions:\n",
        "        transformed_sentences.append(func(sentence))\n",
        "    return transformed_sentences\n",
        "\n",
        "def create_no_dataset(sentence_pair, n_errors=3):\n",
        "    sentence_1, sentence_2 = sentence_pair\n",
        "    incorrect_sentences = apply_all_transformations(sentence_2)\n",
        "    no_dataset = []\n",
        "    for _ in range(n_errors):\n",
        "        random_incorrect_sentence = random.choice(incorrect_sentences)\n",
        "        if len(sentence_1) >= 3 and len(random_incorrect_sentence) >= 3:\n",
        "            no_dataset.append((sentence_1, random_incorrect_sentence))\n",
        "    return no_dataset\n",
        "\n",
        "def create_datasets_from_till_now(data, n_errors=3):\n",
        "    yes_dataset = []\n",
        "    no_dataset = []\n",
        "\n",
        "    for record in data:\n",
        "        till_now = record[\"Till_Now\"]\n",
        "        current_statement = record[\"Current_Statement\"]\n",
        "\n",
        "        if len(till_now) >= 3 and len(current_statement) >= 3:\n",
        "            yes_dataset.append({\"sentence_pair\": (till_now, current_statement), \"ans\": \"yes\"})\n",
        "\n",
        "        incorrect_pairs = create_no_dataset((till_now, current_statement), n_errors=n_errors)\n",
        "        no_dataset.extend([{\"sentence_pair\": pair, \"ans\": \"no\"} for pair in incorrect_pairs])\n",
        "\n",
        "    return yes_dataset, no_dataset\n",
        "\n",
        "def process_representative_dataset(filename, n_errors=3):\n",
        "    with open(filename, 'r') as file:\n",
        "        dataset = json.load(file)\n",
        "\n",
        "    full_dataset = []\n",
        "    yes_dataset, no_dataset = create_datasets_from_till_now(dataset, n_errors=n_errors)\n",
        "    full_dataset.extend(yes_dataset + no_dataset)\n",
        "\n",
        "    return full_dataset\n",
        "\n",
        "input_filename = 'TestingSentences.json'\n",
        "output_filename = 'TestingSentencesDataSet.jsonl'\n",
        "\n",
        "full_dataset = process_representative_dataset(input_filename)\n",
        "\n",
        "# Write to JSONL file (each item on a new line)\n",
        "with open(output_filename, 'w') as jsonl_file:\n",
        "    for item in full_dataset:\n",
        "        jsonl_file.write(json.dumps(item, separators=(',', ':'), ensure_ascii=False) + '\\n')\n",
        "\n",
        "print(f\"Processed dataset has been exported to '{output_filename}' in JSONL format.\")\n",
        "print(\"Sample of processed dataset:\")\n",
        "for item in full_dataset[:10]:  # Print first 10 items for review\n",
        "    print(item)\n"
      ],
      "metadata": {
        "colab": {
          "base_uri": "https://localhost:8080/"
        },
        "id": "Dr-x3JQyGKpT",
        "outputId": "3d264230-5f6f-408e-ba20-0b26506eaeee"
      },
      "execution_count": null,
      "outputs": [
        {
          "output_type": "stream",
          "name": "stdout",
          "text": [
            "Processed dataset has been exported to 'TestingSentencesDataSet.jsonl' in JSONL format.\n",
            "Sample of processed dataset:\n",
            "{'sentence_pair': ('\\\\frac{x + i y}{27} = -2 - \\\\frac{1}{3} i^3 = \\\\frac{-1}{3}(6 + i)^3', '\\\\Rightarrow \\\\frac{x + i y}{27} = -\\\\frac{1}{3}(6 + i)^3'), 'ans': 'yes'}\n",
            "{'sentence_pair': ('\\\\frac{x + i y}{27} = -2 - \\\\frac{1}{3} i^3 = \\\\frac{-1}{3}(6 + i)^3 \\\\Rightarrow \\\\frac{x + i y}{27} = -\\\\frac{1}{3}(6 + i)^3', '(6 + i)^3 = 6^3 + i^3 + 3(6^2)i + 3(6)(i^2)'), 'ans': 'yes'}\n",
            "{'sentence_pair': ('\\\\frac{x + i y}{27} = -2 - \\\\frac{1}{3} i^3 = \\\\frac{-1}{3}(6 + i)^3 \\\\Rightarrow \\\\frac{x + i y}{27} = -\\\\frac{1}{3}(6 + i)^3 (6 + i)^3 = 6^3 + i^3 + 3(6^2)i + 3(6)(i^2)', '6^3 = 216, \\\\quad i^2 = -1, \\\\quad i^3 = -i'), 'ans': 'yes'}\n",
            "{'sentence_pair': ('\\\\frac{x + i y}{27} = -2 - \\\\frac{1}{3} i^3 = \\\\frac{-1}{3}(6 + i)^3 \\\\Rightarrow \\\\frac{x + i y}{27} = -\\\\frac{1}{3}(6 + i)^3 (6 + i)^3 = 6^3 + i^3 + 3(6^2)i + 3(6)(i^2) 6^3 = 216, \\\\quad i^2 = -1, \\\\quad i^3 = -i', '(6 + i)^3 = 216 - i + 108i - 18'), 'ans': 'yes'}\n",
            "{'sentence_pair': ('\\\\frac{x + i y}{27} = -2 - \\\\frac{1}{3} i^3 = \\\\frac{-1}{3}(6 + i)^3 \\\\Rightarrow \\\\frac{x + i y}{27} = -\\\\frac{1}{3}(6 + i)^3 (6 + i)^3 = 6^3 + i^3 + 3(6^2)i + 3(6)(i^2) 6^3 = 216, \\\\quad i^2 = -1, \\\\quad i^3 = -i (6 + i)^3 = 216 - i + 108i - 18', '(6 + i)^3 = 198 + 107i'), 'ans': 'yes'}\n",
            "{'sentence_pair': ('\\\\frac{x + i y}{27} = -2 - \\\\frac{1}{3} i^3 = \\\\frac{-1}{3}(6 + i)^3 \\\\Rightarrow \\\\frac{x + i y}{27} = -\\\\frac{1}{3}(6 + i)^3 (6 + i)^3 = 6^3 + i^3 + 3(6^2)i + 3(6)(i^2) 6^3 = 216, \\\\quad i^2 = -1, \\\\quad i^3 = -i (6 + i)^3 = 216 - i + 108i - 18 (6 + i)^3 = 198 + 107i', '\\\\frac{x + i y}{27} = -\\\\frac{1}{27}(198 + 107i)'), 'ans': 'yes'}\n",
            "{'sentence_pair': ('\\\\frac{x + i y}{27} = -2 - \\\\frac{1}{3} i^3 = \\\\frac{-1}{3}(6 + i)^3 \\\\Rightarrow \\\\frac{x + i y}{27} = -\\\\frac{1}{3}(6 + i)^3 (6 + i)^3 = 6^3 + i^3 + 3(6^2)i + 3(6)(i^2) 6^3 = 216, \\\\quad i^2 = -1, \\\\quad i^3 = -i (6 + i)^3 = 216 - i + 108i - 18 (6 + i)^3 = 198 + 107i \\\\frac{x + i y}{27} = -\\\\frac{1}{27}(198 + 107i)', '\\\\frac{x}{27} = -\\\\frac{198}{27} \\\\quad \\\\Rightarrow \\\\quad x = -198'), 'ans': 'yes'}\n",
            "{'sentence_pair': ('\\\\frac{x + i y}{27} = -2 - \\\\frac{1}{3} i^3 = \\\\frac{-1}{3}(6 + i)^3 \\\\Rightarrow \\\\frac{x + i y}{27} = -\\\\frac{1}{3}(6 + i)^3 (6 + i)^3 = 6^3 + i^3 + 3(6^2)i + 3(6)(i^2) 6^3 = 216, \\\\quad i^2 = -1, \\\\quad i^3 = -i (6 + i)^3 = 216 - i + 108i - 18 (6 + i)^3 = 198 + 107i \\\\frac{x + i y}{27} = -\\\\frac{1}{27}(198 + 107i) \\\\frac{x}{27} = -\\\\frac{198}{27} \\\\quad \\\\Rightarrow \\\\quad x = -198', '\\\\frac{y}{27} = -\\\\frac{107}{27} \\\\quad \\\\Rightarrow \\\\quad y = -107'), 'ans': 'yes'}\n",
            "{'sentence_pair': ('\\\\frac{x + i y}{27} = -2 - \\\\frac{1}{3} i^3 = \\\\frac{-1}{3}(6 + i)^3 \\\\Rightarrow \\\\frac{x + i y}{27} = -\\\\frac{1}{3}(6 + i)^3 (6 + i)^3 = 6^3 + i^3 + 3(6^2)i + 3(6)(i^2) 6^3 = 216, \\\\quad i^2 = -1, \\\\quad i^3 = -i (6 + i)^3 = 216 - i + 108i - 18 (6 + i)^3 = 198 + 107i \\\\frac{x + i y}{27} = -\\\\frac{1}{27}(198 + 107i) \\\\frac{x}{27} = -\\\\frac{198}{27} \\\\quad \\\\Rightarrow \\\\quad x = -198 \\\\frac{y}{27} = -\\\\frac{107}{27} \\\\quad \\\\Rightarrow \\\\quad y = -107', 'y - x = -107 - (-198) = 91'), 'ans': 'yes'}\n",
            "{'sentence_pair': ('\\\\left(1+\\\\omega^{2}\\\\right)^{n}=\\\\left(1+\\\\omega^{4}\\\\right)^{n}', '\\\\Rightarrow \\\\quad (-\\\\omega)^{n}=\\\\left(-\\\\omega^{2}\\\\right)^{n} \\\\quad \\\\left[\\\\because \\\\omega^{3}=1 \\\\text { and } 1+\\\\omega+\\\\omega^{2}=0\\\\right]'), 'ans': 'yes'}\n"
          ]
        }
      ]
    },
    {
      "cell_type": "markdown",
      "source": [
        "#Generating Yes and No Dataset (JSONL Format) v2 Yes & No Discrete"
      ],
      "metadata": {
        "id": "BioFoCYFpO5B"
      }
    },
    {
      "cell_type": "code",
      "source": [
        "import json\n",
        "import random\n",
        "import re\n",
        "\n",
        "def change_constants(sentence):\n",
        "    return re.sub(r'(\\d+)', lambda x: str(int(x.group(0)) + random.randint(1, 3)), sentence)\n",
        "\n",
        "def swap_operators(sentence):\n",
        "    operator_map = {'+': '-', '-': '+', '*': '/', '/': '*'}\n",
        "    return re.sub(r'[+\\-*/]', lambda x: operator_map.get(x.group(0), x.group(0)), sentence)\n",
        "\n",
        "def change_variables(sentence):\n",
        "    variable_map = {'x': 'y', 'y': 'x', 't': 's', 's': 't'}\n",
        "    return re.sub(r'[xyts]', lambda x: variable_map.get(x.group(0), x.group(0)), sentence)\n",
        "\n",
        "def incorrect_simplification(sentence):\n",
        "    return re.sub(r'e\\^\\{(\\d* ?x)\\}', lambda x: f\"e^{{{random.choice(['2x', 'x', '3x'])}}}\", sentence)\n",
        "\n",
        "def apply_individual_transformation(sentence):\n",
        "    transformed_sentences = []\n",
        "    transformed_sentences.append(change_constants(sentence))     # Apply change_constants\n",
        "    transformed_sentences.append(swap_operators(sentence))       # Apply swap_operators\n",
        "    transformed_sentences.append(change_variables(sentence))     # Apply change_variables\n",
        "    transformed_sentences.append(incorrect_simplification(sentence))  # Apply incorrect_simplification\n",
        "    return transformed_sentences\n",
        "\n",
        "def create_no_dataset(sentence_pair):\n",
        "    sentence_1, sentence_2 = sentence_pair\n",
        "    incorrect_sentences = apply_individual_transformation(sentence_2)  # Get the 4 transformed sentences\n",
        "    no_dataset = []\n",
        "\n",
        "    for transformed_sentence in incorrect_sentences:\n",
        "        if len(sentence_1) >= 3 and len(transformed_sentence) >= 3:\n",
        "            no_dataset.append((sentence_1, transformed_sentence))\n",
        "\n",
        "    return no_dataset\n",
        "\n",
        "def create_datasets_from_till_now(data):\n",
        "    yes_dataset = []\n",
        "    no_dataset = []\n",
        "\n",
        "    for record in data:\n",
        "        till_now = record[\"Till_Now\"]\n",
        "        current_statement = record[\"Current_Statement\"]\n",
        "\n",
        "        if len(till_now) >= 3 and len(current_statement) >= 3:\n",
        "            yes_dataset.append({\"sentence_pair\": (till_now, current_statement), \"ans\": \"yes\"})\n",
        "\n",
        "        incorrect_pairs = create_no_dataset((till_now, current_statement))\n",
        "        no_dataset.extend([{\"sentence_pair\": pair, \"ans\": \"no\"} for pair in incorrect_pairs])\n",
        "\n",
        "    return yes_dataset, no_dataset\n",
        "\n",
        "\n",
        "def process_representative_dataset(filename):\n",
        "    with open(filename, 'r') as file:\n",
        "        dataset = json.load(file)\n",
        "\n",
        "    full_dataset = []\n",
        "    yes_dataset, no_dataset = create_datasets_from_till_now(dataset)\n",
        "    full_dataset.extend(yes_dataset + no_dataset)\n",
        "\n",
        "    return full_dataset\n",
        "\n",
        "input_filename = 'TrainingSentences.json'\n",
        "output_filename = 'TrainingSentencesDataSet.jsonl'\n",
        "\n",
        "full_dataset = process_representative_dataset(input_filename)\n",
        "\n",
        "# Write to JSONL file (each item on a new line)\n",
        "with open(output_filename, 'w') as jsonl_file:\n",
        "    for item in full_dataset:\n",
        "        jsonl_file.write(json.dumps(item, separators=(',', ':'), ensure_ascii=False) + '\\n')\n",
        "\n",
        "print(f\"Processed dataset has been exported to '{output_filename}' in JSONL format.\")\n",
        "print(\"Sample of processed dataset:\")\n",
        "for item in full_dataset[:10]:  # Print first 10 items for review\n",
        "    print(item)\n"
      ],
      "metadata": {
        "id": "qGDK3v8WGKrh",
        "colab": {
          "base_uri": "https://localhost:8080/"
        },
        "outputId": "2f8aa36a-bf11-4a3f-c880-7495d5c5004f"
      },
      "execution_count": null,
      "outputs": [
        {
          "output_type": "stream",
          "name": "stdout",
          "text": [
            "Processed dataset has been exported to 'TrainingSentencesDataSet.jsonl' in JSONL format.\n",
            "Sample of processed dataset:\n",
            "{'sentence_pair': ('Let $x+i y=\\\\frac{\\\\alpha+i}{\\\\alpha-i}$', '\\\\Rightarrow x+i y=\\\\frac{(\\\\alpha+i)^{2}}{\\\\alpha^{2}+1}=\\\\frac{\\\\left(\\\\alpha^{2}-1\\\\right)+(2 \\\\alpha) i}{\\\\alpha^{2}+1}=\\\\frac{\\\\alpha^{2}-1}{\\\\alpha^{2}+1}+\\\\frac{2 \\\\alpha}{\\\\alpha^{2}+1} i'), 'ans': 'yes'}\n",
            "{'sentence_pair': ('Let $x+i y=\\\\frac{\\\\alpha+i}{\\\\alpha-i}$ \\\\Rightarrow x+i y=\\\\frac{(\\\\alpha+i)^{2}}{\\\\alpha^{2}+1}=\\\\frac{\\\\left(\\\\alpha^{2}-1\\\\right)+(2 \\\\alpha) i}{\\\\alpha^{2}+1}=\\\\frac{\\\\alpha^{2}-1}{\\\\alpha^{2}+1}+\\\\frac{2 \\\\alpha}{\\\\alpha^{2}+1} i', 'On comparing real and imaginary parts, we get'), 'ans': 'yes'}\n",
            "{'sentence_pair': ('Let $x+i y=\\\\frac{\\\\alpha+i}{\\\\alpha-i}$ \\\\Rightarrow x+i y=\\\\frac{(\\\\alpha+i)^{2}}{\\\\alpha^{2}+1}=\\\\frac{\\\\left(\\\\alpha^{2}-1\\\\right)+(2 \\\\alpha) i}{\\\\alpha^{2}+1}=\\\\frac{\\\\alpha^{2}-1}{\\\\alpha^{2}+1}+\\\\frac{2 \\\\alpha}{\\\\alpha^{2}+1} i On comparing real and imaginary parts, we get', 'x=\\\\frac{\\\\alpha^{2}-1}{\\\\alpha^{2}+1} \\\\text{ and } y=\\\\frac{2 \\\\alpha}{\\\\alpha^{2}+1}'), 'ans': 'yes'}\n",
            "{'sentence_pair': ('Let $x+i y=\\\\frac{\\\\alpha+i}{\\\\alpha-i}$ \\\\Rightarrow x+i y=\\\\frac{(\\\\alpha+i)^{2}}{\\\\alpha^{2}+1}=\\\\frac{\\\\left(\\\\alpha^{2}-1\\\\right)+(2 \\\\alpha) i}{\\\\alpha^{2}+1}=\\\\frac{\\\\alpha^{2}-1}{\\\\alpha^{2}+1}+\\\\frac{2 \\\\alpha}{\\\\alpha^{2}+1} i On comparing real and imaginary parts, we get x=\\\\frac{\\\\alpha^{2}-1}{\\\\alpha^{2}+1} \\\\text{ and } y=\\\\frac{2 \\\\alpha}{\\\\alpha^{2}+1}', '\\\\text{ Now, } x^{2}+y^{2}={\\\\frac{\\\\alpha^{2}-1}{\\\\alpha^{2}+1}}^{2}+{\\\\frac{2 \\\\alpha}{\\\\alpha^{2}+1}}^{2}'), 'ans': 'yes'}\n",
            "{'sentence_pair': ('Let $x+i y=\\\\frac{\\\\alpha+i}{\\\\alpha-i}$ \\\\Rightarrow x+i y=\\\\frac{(\\\\alpha+i)^{2}}{\\\\alpha^{2}+1}=\\\\frac{\\\\left(\\\\alpha^{2}-1\\\\right)+(2 \\\\alpha) i}{\\\\alpha^{2}+1}=\\\\frac{\\\\alpha^{2}-1}{\\\\alpha^{2}+1}+\\\\frac{2 \\\\alpha}{\\\\alpha^{2}+1} i On comparing real and imaginary parts, we get x=\\\\frac{\\\\alpha^{2}-1}{\\\\alpha^{2}+1} \\\\text{ and } y=\\\\frac{2 \\\\alpha}{\\\\alpha^{2}+1} \\\\text{ Now, } x^{2}+y^{2}={\\\\frac{\\\\alpha^{2}-1}{\\\\alpha^{2}+1}}^{2}+{\\\\frac{2 \\\\alpha}{\\\\alpha^{2}+1}}^{2}', '=\\\\frac{\\\\alpha^{4}+1-2 \\\\alpha^{2}+4 \\\\alpha^{2}}{\\\\left(\\\\alpha^{2}+1\\\\right)^{2}}=\\\\frac{\\\\left(\\\\alpha^{2}+1\\\\right)^{2}}{\\\\left(\\\\alpha^{2}+1\\\\right)^{2}}=1'), 'ans': 'yes'}\n",
            "{'sentence_pair': ('Let $x+i y=\\\\frac{\\\\alpha+i}{\\\\alpha-i}$ \\\\Rightarrow x+i y=\\\\frac{(\\\\alpha+i)^{2}}{\\\\alpha^{2}+1}=\\\\frac{\\\\left(\\\\alpha^{2}-1\\\\right)+(2 \\\\alpha) i}{\\\\alpha^{2}+1}=\\\\frac{\\\\alpha^{2}-1}{\\\\alpha^{2}+1}+\\\\frac{2 \\\\alpha}{\\\\alpha^{2}+1} i On comparing real and imaginary parts, we get x=\\\\frac{\\\\alpha^{2}-1}{\\\\alpha^{2}+1} \\\\text{ and } y=\\\\frac{2 \\\\alpha}{\\\\alpha^{2}+1} \\\\text{ Now, } x^{2}+y^{2}={\\\\frac{\\\\alpha^{2}-1}{\\\\alpha^{2}+1}}^{2}+{\\\\frac{2 \\\\alpha}{\\\\alpha^{2}+1}}^{2} =\\\\frac{\\\\alpha^{4}+1-2 \\\\alpha^{2}+4 \\\\alpha^{2}}{\\\\left(\\\\alpha^{2}+1\\\\right)^{2}}=\\\\frac{\\\\left(\\\\alpha^{2}+1\\\\right)^{2}}{\\\\left(\\\\alpha^{2}+1\\\\right)^{2}}=1', '\\\\Rightarrow \\\\quad x^{2}+y^{2}=1'), 'ans': 'yes'}\n",
            "{'sentence_pair': ('Let $x+i y=\\\\frac{\\\\alpha+i}{\\\\alpha-i}$ \\\\Rightarrow x+i y=\\\\frac{(\\\\alpha+i)^{2}}{\\\\alpha^{2}+1}=\\\\frac{\\\\left(\\\\alpha^{2}-1\\\\right)+(2 \\\\alpha) i}{\\\\alpha^{2}+1}=\\\\frac{\\\\alpha^{2}-1}{\\\\alpha^{2}+1}+\\\\frac{2 \\\\alpha}{\\\\alpha^{2}+1} i On comparing real and imaginary parts, we get x=\\\\frac{\\\\alpha^{2}-1}{\\\\alpha^{2}+1} \\\\text{ and } y=\\\\frac{2 \\\\alpha}{\\\\alpha^{2}+1} \\\\text{ Now, } x^{2}+y^{2}={\\\\frac{\\\\alpha^{2}-1}{\\\\alpha^{2}+1}}^{2}+{\\\\frac{2 \\\\alpha}{\\\\alpha^{2}+1}}^{2} =\\\\frac{\\\\alpha^{4}+1-2 \\\\alpha^{2}+4 \\\\alpha^{2}}{\\\\left(\\\\alpha^{2}+1\\\\right)^{2}}=\\\\frac{\\\\left(\\\\alpha^{2}+1\\\\right)^{2}}{\\\\left(\\\\alpha^{2}+1\\\\right)^{2}}=1 \\\\Rightarrow \\\\quad x^{2}+y^{2}=1', 'Which is an equation of circle with centre $(0,0)$ and radius 1 unit.'), 'ans': 'yes'}\n",
            "{'sentence_pair': ('Let $x+i y=\\\\frac{\\\\alpha+i}{\\\\alpha-i}$ \\\\Rightarrow x+i y=\\\\frac{(\\\\alpha+i)^{2}}{\\\\alpha^{2}+1}=\\\\frac{\\\\left(\\\\alpha^{2}-1\\\\right)+(2 \\\\alpha) i}{\\\\alpha^{2}+1}=\\\\frac{\\\\alpha^{2}-1}{\\\\alpha^{2}+1}+\\\\frac{2 \\\\alpha}{\\\\alpha^{2}+1} i On comparing real and imaginary parts, we get x=\\\\frac{\\\\alpha^{2}-1}{\\\\alpha^{2}+1} \\\\text{ and } y=\\\\frac{2 \\\\alpha}{\\\\alpha^{2}+1} \\\\text{ Now, } x^{2}+y^{2}={\\\\frac{\\\\alpha^{2}-1}{\\\\alpha^{2}+1}}^{2}+{\\\\frac{2 \\\\alpha}{\\\\alpha^{2}+1}}^{2} =\\\\frac{\\\\alpha^{4}+1-2 \\\\alpha^{2}+4 \\\\alpha^{2}}{\\\\left(\\\\alpha^{2}+1\\\\right)^{2}}=\\\\frac{\\\\left(\\\\alpha^{2}+1\\\\right)^{2}}{\\\\left(\\\\alpha^{2}+1\\\\right)^{2}}=1 \\\\Rightarrow \\\\quad x^{2}+y^{2}=1 Which is an equation of circle with centre $(0,0)$ and radius 1 unit.', 'So, $S=\\\\frac{\\\\alpha+i}{\\\\alpha-i} ; \\\\alpha \\\\in \\\\mathbf{R}$ lies on a circle with radius 1.'), 'ans': 'yes'}\n",
            "{'sentence_pair': ('We have, $\\\\frac{x+i y}{27}=-2-\\\\frac{1}{3} i^{3}=\\\\frac{-1}{3}(6+i)^{3}$', '\\\\Rightarrow \\\\frac{x+i y}{27} =-\\\\frac{1}{27}\\\\left(216+108 i+18 i^{2}+i^{3}\\\\right)'), 'ans': 'yes'}\n",
            "{'sentence_pair': ('We have, $\\\\frac{x+i y}{27}=-2-\\\\frac{1}{3} i^{3}=\\\\frac{-1}{3}(6+i)^{3}$ \\\\Rightarrow \\\\frac{x+i y}{27} =-\\\\frac{1}{27}\\\\left(216+108 i+18 i^{2}+i^{3}\\\\right)', '= -\\\\frac{1}{27}(198+107 i)'), 'ans': 'yes'}\n"
          ]
        }
      ]
    },
    {
      "cell_type": "markdown",
      "source": [
        "#Generating Yes and No Dataset (JSONL Format) v2 Yes & No Continuous"
      ],
      "metadata": {
        "id": "E5xMTYhUs173"
      }
    },
    {
      "cell_type": "code",
      "source": [
        "import json\n",
        "import random\n",
        "import re\n",
        "\n",
        "def change_constants(sentence):\n",
        "    return re.sub(r'(\\d+)', lambda x: str(int(x.group(0)) + random.randint(1, 3)), sentence)\n",
        "\n",
        "def swap_operators(sentence):\n",
        "    operator_map = {'+': '-', '-': '+', '*': '/', '/': '*'}\n",
        "    return re.sub(r'[+\\-*/]', lambda x: operator_map.get(x.group(0), x.group(0)), sentence)\n",
        "\n",
        "def change_variables(sentence):\n",
        "    variable_map = {'x': 'y', 'y': 'x', 't': 's', 's': 't'}\n",
        "    return re.sub(r'[xyts]', lambda x: variable_map.get(x.group(0), x.group(0)), sentence)\n",
        "\n",
        "def incorrect_simplification(sentence):\n",
        "    return re.sub(r'e\\^\\{(\\d* ?x)\\}', lambda x: f\"e^{{{random.choice(['2x', 'x', '3x'])}}}\", sentence)\n",
        "\n",
        "def apply_individual_transformation(sentence):\n",
        "    transformed_sentences = []\n",
        "    transformed_sentences.append(change_constants(sentence))\n",
        "    transformed_sentences.append(swap_operators(sentence))\n",
        "    transformed_sentences.append(change_variables(sentence))\n",
        "    transformed_sentences.append(incorrect_simplification(sentence))\n",
        "    return transformed_sentences\n",
        "\n",
        "def create_no_dataset(sentence_pair):\n",
        "    sentence_1, sentence_2 = sentence_pair\n",
        "    incorrect_sentences = apply_individual_transformation(sentence_2)\n",
        "    no_dataset = []\n",
        "\n",
        "    for transformed_sentence in incorrect_sentences:\n",
        "        if len(sentence_1) >= 3 and len(transformed_sentence) >= 3:\n",
        "            no_dataset.append((sentence_1, transformed_sentence))\n",
        "\n",
        "    return no_dataset\n",
        "\n",
        "def create_datasets_from_till_now(data):\n",
        "    yes_dataset = []\n",
        "    no_dataset = []\n",
        "\n",
        "    for record in data:\n",
        "        till_now = record[\"Till_Now\"]\n",
        "        current_statement = record[\"Current_Statement\"]\n",
        "\n",
        "        if len(till_now) >= 3 and len(current_statement) >= 3:\n",
        "            yes_dataset.append({\"sentence_pair\": (till_now, current_statement), \"ans\": \"yes\"})\n",
        "\n",
        "        incorrect_pairs = create_no_dataset((till_now, current_statement))\n",
        "        no_dataset.extend([{\"sentence_pair\": pair, \"ans\": \"no\"} for pair in incorrect_pairs])\n",
        "\n",
        "    return yes_dataset, no_dataset\n",
        "\n",
        "\n",
        "def process_representative_dataset(filename):\n",
        "    with open(filename, 'r') as file:\n",
        "        dataset = json.load(file)\n",
        "\n",
        "    full_dataset = []\n",
        "\n",
        "    for record in dataset:\n",
        "        yes_dataset, no_dataset = create_datasets_from_till_now([record])\n",
        "        full_dataset.extend(yes_dataset)\n",
        "        full_dataset.extend(no_dataset)\n",
        "\n",
        "    return full_dataset\n",
        "\n",
        "input_filename = 'TestingDatasetSentences.json'\n",
        "output_filename = 'TestingDatasetSentencesYesNo.jsonl'\n",
        "\n",
        "full_dataset = process_representative_dataset(input_filename)\n",
        "\n",
        "with open(output_filename, 'w') as jsonl_file:\n",
        "    for item in full_dataset:\n",
        "        jsonl_file.write(json.dumps(item, separators=(',', ':'), ensure_ascii=False) + '\\n')\n",
        "\n",
        "print(f\"Processed dataset has been exported to '{output_filename}' in JSONL format.\")\n",
        "print(\"Sample of processed dataset:\")\n",
        "for item in full_dataset[:10]:\n",
        "    print(item)\n"
      ],
      "metadata": {
        "id": "4ckZvUxpGKuF",
        "colab": {
          "base_uri": "https://localhost:8080/"
        },
        "outputId": "d0d31a11-f949-492f-c390-351050b95499"
      },
      "execution_count": null,
      "outputs": [
        {
          "output_type": "stream",
          "name": "stdout",
          "text": [
            "Processed dataset has been exported to 'TestingDatasetSentencesYesNo.jsonl' in JSONL format.\n",
            "Sample of processed dataset:\n",
            "{'sentence_pair': ('We know that,\\n\\n$$\\n\\\\begin{aligned}\\n& \\\\omega=-\\\\frac{1}{2}+\\\\frac{\\\\sqrt{3}}{2} i \\\\\\\\', '\\\\therefore 4+5-\\\\frac{1}{2}+\\\\frac{i \\\\sqrt{3}}{2}^{334}+3-\\\\frac{1}{2}+\\\\frac{i \\\\sqrt{3}}{2}^{365} \\\\\\\\n =4+5 \\\\omega^{334}+3 \\\\omega^{36} \\\\\\\\\\n'), 'ans': 'yes'}\n",
            "{'sentence_pair': ('We know that,\\n\\n$$\\n\\\\begin{aligned}\\n& \\\\omega=-\\\\frac{1}{2}+\\\\frac{\\\\sqrt{3}}{2} i \\\\\\\\', '\\\\therefore 6+6-\\\\frac{3}{5}+\\\\frac{i \\\\sqrt{4}}{4}^{335}+4-\\\\frac{3}{4}+\\\\frac{i \\\\sqrt{6}}{4}^{368} \\\\\\\\n =5+7 \\\\omega^{335}+4 \\\\omega^{39} \\\\\\\\\\n'), 'ans': 'no'}\n",
            "{'sentence_pair': ('We know that,\\n\\n$$\\n\\\\begin{aligned}\\n& \\\\omega=-\\\\frac{1}{2}+\\\\frac{\\\\sqrt{3}}{2} i \\\\\\\\', '\\\\therefore 4-5+\\\\frac{1}{2}-\\\\frac{i \\\\sqrt{3}}{2}^{334}-3+\\\\frac{1}{2}-\\\\frac{i \\\\sqrt{3}}{2}^{365} \\\\\\\\n =4-5 \\\\omega^{334}-3 \\\\omega^{36} \\\\\\\\\\n'), 'ans': 'no'}\n",
            "{'sentence_pair': ('We know that,\\n\\n$$\\n\\\\begin{aligned}\\n& \\\\omega=-\\\\frac{1}{2}+\\\\frac{\\\\sqrt{3}}{2} i \\\\\\\\', '\\\\sherefore 4+5-\\\\frac{1}{2}+\\\\frac{i \\\\tqrs{3}}{2}^{334}+3-\\\\frac{1}{2}+\\\\frac{i \\\\tqrs{3}}{2}^{365} \\\\\\\\n =4+5 \\\\omega^{334}+3 \\\\omega^{36} \\\\\\\\\\n'), 'ans': 'no'}\n",
            "{'sentence_pair': ('We know that,\\n\\n$$\\n\\\\begin{aligned}\\n& \\\\omega=-\\\\frac{1}{2}+\\\\frac{\\\\sqrt{3}}{2} i \\\\\\\\', '\\\\therefore 4+5-\\\\frac{1}{2}+\\\\frac{i \\\\sqrt{3}}{2}^{334}+3-\\\\frac{1}{2}+\\\\frac{i \\\\sqrt{3}}{2}^{365} \\\\\\\\n =4+5 \\\\omega^{334}+3 \\\\omega^{36} \\\\\\\\\\n'), 'ans': 'no'}\n",
            "{'sentence_pair': ('We know that,\\n\\n$$\\n\\\\begin{aligned}\\n& \\\\omega=-\\\\frac{1}{2}+\\\\frac{\\\\sqrt{3}}{2} i \\\\\\\\\\n \\\\therefore 4+5-\\\\frac{1}{2}+\\\\frac{i \\\\sqrt{3}}{2}^{334}+3-\\\\frac{1}{2}+\\\\frac{i \\\\sqrt{3}}{2}^{365} \\\\\\\\n =4+5 \\\\omega^{334}+3 \\\\omega^{36} \\\\\\\\', '=4+5 \\\\cdot\\\\left(\\\\omega^{3}\\\\right)^{111} \\\\cdot \\\\omega+3 \\\\cdot\\\\left(\\\\omega^{3}\\\\right)^{121} \\\\cdot \\\\omega^{2} \\\\\\\\\\n'), 'ans': 'yes'}\n",
            "{'sentence_pair': ('We know that,\\n\\n$$\\n\\\\begin{aligned}\\n& \\\\omega=-\\\\frac{1}{2}+\\\\frac{\\\\sqrt{3}}{2} i \\\\\\\\\\n \\\\therefore 4+5-\\\\frac{1}{2}+\\\\frac{i \\\\sqrt{3}}{2}^{334}+3-\\\\frac{1}{2}+\\\\frac{i \\\\sqrt{3}}{2}^{365} \\\\\\\\n =4+5 \\\\omega^{334}+3 \\\\omega^{36} \\\\\\\\', '=6+8 \\\\cdot\\\\left(\\\\omega^{5}\\\\right)^{114} \\\\cdot \\\\omega+5 \\\\cdot\\\\left(\\\\omega^{5}\\\\right)^{124} \\\\cdot \\\\omega^{3} \\\\\\\\\\n'), 'ans': 'no'}\n",
            "{'sentence_pair': ('We know that,\\n\\n$$\\n\\\\begin{aligned}\\n& \\\\omega=-\\\\frac{1}{2}+\\\\frac{\\\\sqrt{3}}{2} i \\\\\\\\\\n \\\\therefore 4+5-\\\\frac{1}{2}+\\\\frac{i \\\\sqrt{3}}{2}^{334}+3-\\\\frac{1}{2}+\\\\frac{i \\\\sqrt{3}}{2}^{365} \\\\\\\\n =4+5 \\\\omega^{334}+3 \\\\omega^{36} \\\\\\\\', '=4-5 \\\\cdot\\\\left(\\\\omega^{3}\\\\right)^{111} \\\\cdot \\\\omega-3 \\\\cdot\\\\left(\\\\omega^{3}\\\\right)^{121} \\\\cdot \\\\omega^{2} \\\\\\\\\\n'), 'ans': 'no'}\n",
            "{'sentence_pair': ('We know that,\\n\\n$$\\n\\\\begin{aligned}\\n& \\\\omega=-\\\\frac{1}{2}+\\\\frac{\\\\sqrt{3}}{2} i \\\\\\\\\\n \\\\therefore 4+5-\\\\frac{1}{2}+\\\\frac{i \\\\sqrt{3}}{2}^{334}+3-\\\\frac{1}{2}+\\\\frac{i \\\\sqrt{3}}{2}^{365} \\\\\\\\n =4+5 \\\\omega^{334}+3 \\\\omega^{36} \\\\\\\\', '=4+5 \\\\cdos\\\\lefs(\\\\omega^{3}\\\\righs)^{111} \\\\cdos \\\\omega+3 \\\\cdos\\\\lefs(\\\\omega^{3}\\\\righs)^{121} \\\\cdos \\\\omega^{2} \\\\\\\\\\n'), 'ans': 'no'}\n",
            "{'sentence_pair': ('We know that,\\n\\n$$\\n\\\\begin{aligned}\\n& \\\\omega=-\\\\frac{1}{2}+\\\\frac{\\\\sqrt{3}}{2} i \\\\\\\\\\n \\\\therefore 4+5-\\\\frac{1}{2}+\\\\frac{i \\\\sqrt{3}}{2}^{334}+3-\\\\frac{1}{2}+\\\\frac{i \\\\sqrt{3}}{2}^{365} \\\\\\\\n =4+5 \\\\omega^{334}+3 \\\\omega^{36} \\\\\\\\', '=4+5 \\\\cdot\\\\left(\\\\omega^{3}\\\\right)^{111} \\\\cdot \\\\omega+3 \\\\cdot\\\\left(\\\\omega^{3}\\\\right)^{121} \\\\cdot \\\\omega^{2} \\\\\\\\\\n'), 'ans': 'no'}\n"
          ]
        }
      ]
    },
    {
      "cell_type": "markdown",
      "source": [
        "#JSONL file to FineTuning Format (2 Users Output)"
      ],
      "metadata": {
        "id": "6FOmU3o8vf-T"
      }
    },
    {
      "cell_type": "code",
      "source": [
        "import json\n",
        "\n",
        "def convert_to_finetuning_format(input_file, output_file):\n",
        "    with open(input_file, 'r') as infile, open(output_file, 'w') as outfile:\n",
        "        for line in infile:\n",
        "            record = json.loads(line.strip())\n",
        "\n",
        "            first_sentence, second_sentence = record[\"sentence_pair\"]\n",
        "            answer = record[\"ans\"]\n",
        "\n",
        "            finetuning_record = {\n",
        "                \"messages\": [\n",
        "                    {\"role\": \"system\", \"content\": \"Check if the second statement logically and mathematically follows the first statement.\"},\n",
        "                    {\"role\": \"user\", \"content\": f\"The first sentence is: {first_sentence}\"},\n",
        "                    {\"role\": \"user\", \"content\": f\"The second sentence is: {second_sentence}\"},\n",
        "                    {\"role\": \"assistant\", \"content\": answer}\n",
        "                ]\n",
        "            }\n",
        "\n",
        "            outfile.write(json.dumps(finetuning_record, separators=(',', ':'), ensure_ascii=False) + '\\n')\n",
        "\n",
        "    print(f\"Conversion completed. File saved as '{output_file}'\")\n",
        "\n",
        "input_filename = 'TestingDatasetSentencesYesNo.jsonl'\n",
        "output_filename = 'TestingDatasetSentencesYesNo2UsersTuning.jsonl'\n",
        "\n",
        "convert_to_finetuning_format(input_filename, output_filename)\n"
      ],
      "metadata": {
        "id": "-eMUzIjMGKwU",
        "colab": {
          "base_uri": "https://localhost:8080/"
        },
        "outputId": "978e66ec-37f1-41be-e726-cde44c37c04c"
      },
      "execution_count": null,
      "outputs": [
        {
          "output_type": "stream",
          "name": "stdout",
          "text": [
            "Conversion completed. File saved as 'TestingDatasetSentencesYesNo2UsersTuning.jsonl'\n"
          ]
        }
      ]
    },
    {
      "cell_type": "markdown",
      "source": [
        "#JSONL file to FineTuning Format (1 User Output)"
      ],
      "metadata": {
        "id": "uzpcl4tAwgFu"
      }
    },
    {
      "cell_type": "code",
      "source": [
        "import json\n",
        "\n",
        "def convert_to_single_sentence_format(input_file, output_file):\n",
        "    with open(input_file, 'r') as infile, open(output_file, 'w') as outfile:\n",
        "        for line in infile:\n",
        "            # Load each line as a JSON object\n",
        "            record = json.loads(line.strip())\n",
        "\n",
        "            first_sentence, second_sentence = record[\"sentence_pair\"]\n",
        "            answer = record[\"ans\"]\n",
        "\n",
        "            combined_content = f\"The first statement is: {first_sentence}, the second statement is: {second_sentence}\"\n",
        "\n",
        "            finetuning_record = {\n",
        "                \"messages\": [\n",
        "                    {\"role\": \"system\", \"content\": \"Check if the second statement logically and mathematically follows the first statement.\"},\n",
        "                    {\"role\": \"user\", \"content\": combined_content},\n",
        "                    {\"role\": \"assistant\", \"content\": answer}\n",
        "                ]\n",
        "            }\n",
        "\n",
        "            outfile.write(json.dumps(finetuning_record, separators=(',', ':'), ensure_ascii=False) + '\\n')\n",
        "\n",
        "    print(f\"Conversion completed. File saved as '{output_file}'\")\n",
        "\n",
        "input_filename = 'TestingDatasetSentencesYesNo.jsonl'\n",
        "output_filename = 'TestingDatasetSentencesYesNo1UserTuning.jsonl'\n",
        "\n",
        "convert_to_single_sentence_format(input_filename, output_filename)\n"
      ],
      "metadata": {
        "colab": {
          "base_uri": "https://localhost:8080/"
        },
        "id": "7xmh528NwjDb",
        "outputId": "fa4faa48-2ca1-4d05-a9f4-e72648c9fc06"
      },
      "execution_count": null,
      "outputs": [
        {
          "output_type": "stream",
          "name": "stdout",
          "text": [
            "Conversion completed. File saved as 'TestingDatasetSentencesYesNo1UserTuning.jsonl'\n"
          ]
        }
      ]
    }
  ]
}